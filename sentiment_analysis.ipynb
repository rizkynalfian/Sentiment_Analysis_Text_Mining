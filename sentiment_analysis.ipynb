{
  "nbformat": 4,
  "nbformat_minor": 0,
  "metadata": {
    "colab": {
      "name": "sentiment analysis.ipynb",
      "private_outputs": true,
      "provenance": [],
      "authorship_tag": "ABX9TyOm2XQySRomXlzZVbKVY4jo",
      "include_colab_link": true
    },
    "kernelspec": {
      "name": "python3",
      "display_name": "Python 3"
    }
  },
  "cells": [
    {
      "cell_type": "markdown",
      "metadata": {
        "id": "view-in-github",
        "colab_type": "text"
      },
      "source": [
        "<a href=\"https://colab.research.google.com/github/rizkynalfian/Sentiment_Analysis_Text_Mining/blob/master/sentiment_analysis.ipynb\" target=\"_parent\"><img src=\"https://colab.research.google.com/assets/colab-badge.svg\" alt=\"Open In Colab\"/></a>"
      ]
    },
    {
      "cell_type": "code",
      "metadata": {
        "id": "ktY-0tpiyoU9"
      },
      "source": [
        "import pandas as pd\n",
        "import matplotlib.pyplot as plt\n",
        "import csv\n",
        "import re\n",
        "import string\n",
        "import seaborn as sns\n",
        "sns.set()\n",
        "import warnings \n",
        "warnings.filterwarnings(\"ignore\")\n",
        "\n",
        "from sklearn.feature_extraction.text import TfidfVectorizer\n",
        "from sklearn.model_selection import train_test_split\n",
        "from sklearn.preprocessing import LabelEncoder\n",
        "from sklearn.feature_extraction.text import CountVectorizer\n",
        "from sklearn.feature_extraction.text import TfidfTransformer\n",
        "\n",
        "from sklearn.preprocessing import MinMaxScaler\n",
        "from sklearn.naive_bayes import MultinomialNB\n",
        "mnb = MultinomialNB()\n",
        "from sklearn.metrics import confusion_matrix\n",
        "from sklearn import metrics"
      ],
      "execution_count": null,
      "outputs": []
    },
    {
      "cell_type": "code",
      "metadata": {
        "id": "hDYyqhB8y4ho"
      },
      "source": [
        "df_datatweet=pd.read_csv('https://raw.githubusercontent.com/rizkynalfian/Sentiment_Analysis_Text_Mining/master/IDHSD_RIO_unbalanced_713_2017.txt', sep='\\t', encoding = \"ISO-8859-1\", dtype=str)\n",
        "df_datatweet.head()"
      ],
      "execution_count": null,
      "outputs": []
    },
    {
      "cell_type": "code",
      "metadata": {
        "id": "en76xdQBzrWl"
      },
      "source": [
        "df_datatweet.info()"
      ],
      "execution_count": null,
      "outputs": []
    },
    {
      "cell_type": "code",
      "metadata": {
        "id": "V3tl_kAvz7KN"
      },
      "source": [
        "# Set Training and Testing Data (70:30)\n",
        "X_train, X_test, y_train, y_test  = train_test_split(df_datatweet['Tweet'] , df_datatweet['Label'], shuffle = True, test_size=0.25, random_state=1)\n",
        "\n",
        "# Show the Training and Testing Data\n",
        "print(X_train.shape)\n",
        "print(X_test.shape)\n",
        "print(y_train.shape)\n",
        "print(y_test.shape)"
      ],
      "execution_count": null,
      "outputs": []
    },
    {
      "cell_type": "code",
      "metadata": {
        "id": "HHwRPCAUuX4I"
      },
      "source": [
        "#Exploratory Data Analysis\n",
        "df_datatweet['length'] = df_datatweet['Tweet'].apply(len)\n",
        "fig1 = sns.barplot('Label','length',data = df_datatweet,palette='PRGn')\n",
        "plt.title('Average Word Length vs label')\n",
        "plot = fig1.get_figure()\n",
        "plot.savefig('Barplot.png')\n",
        "plt.show()"
      ],
      "execution_count": null,
      "outputs": []
    },
    {
      "cell_type": "markdown",
      "metadata": {
        "id": "LfM437n-ayyX"
      },
      "source": [
        "# **Memproses Data**"
      ]
    },
    {
      "cell_type": "code",
      "metadata": {
        "id": "bkHJDqZJ7XXu"
      },
      "source": [
        "! pip install Sastrawi"
      ],
      "execution_count": null,
      "outputs": []
    },
    {
      "cell_type": "code",
      "metadata": {
        "id": "p26Mj70X7jIa"
      },
      "source": [
        "df_datatweet_set_NonHS = df_datatweet.loc[df_datatweet['Label'] == 'Non_HS']\n",
        "df_datatweet_set_NonHS = df_datatweet_set_NonHS.head(453)\n",
        "df_datatweet_set_HS = df_datatweet.loc[df_datatweet['Label'] == 'HS']\n",
        "df_datatweet_set_HS = df_datatweet_set_HS.head(259)\n",
        "df_datatweetnew = df_datatweet_set_NonHS.append(df_datatweet_set_HS, ignore_index=True)\n",
        "df_datatweetnew"
      ],
      "execution_count": null,
      "outputs": []
    },
    {
      "cell_type": "code",
      "metadata": {
        "id": "yXb-a7NN7p6w"
      },
      "source": [
        "#grafik bar untuk menghitung label negatif positif\n",
        "fig2 = sns.countplot(x= 'Label',data = df_datatweetnew)\n",
        "plt.title('Label Counts')\n",
        "plot = fig2.get_figure()\n",
        "plt.show()"
      ],
      "execution_count": null,
      "outputs": []
    },
    {
      "cell_type": "code",
      "metadata": {
        "id": "Qeqr_UuIm_te"
      },
      "source": [
        "from nltk.tokenize import sent_tokenize, word_tokenize\n",
        "from nltk import pos_tag\n",
        "from nltk.stem import PorterStemmer, SnowballStemmer, LancasterStemmer\n",
        "from nltk.stem import WordNetLemmatizer\n",
        "from nltk import tokenize\n",
        "import nltk\n",
        "from sklearn.feature_extraction.text import TfidfVectorizer\n",
        "import re\n",
        "nltk.download('punkt')\n",
        "nltk.download('wordnet')"
      ],
      "execution_count": null,
      "outputs": []
    },
    {
      "cell_type": "code",
      "metadata": {
        "id": "Yvym4th3735M"
      },
      "source": [
        "train=df_datatweet\n",
        "train['text_lem'] = [''.join([WordNetLemmatizer().lemmatize(re.sub('[^A-Za-z]',' ',text)) for text in lis]) for lis in train['Tweet']]"
      ],
      "execution_count": null,
      "outputs": []
    },
    {
      "cell_type": "code",
      "metadata": {
        "id": "s5ZwNrVx7_o1"
      },
      "source": [
        "train['text_lem']"
      ],
      "execution_count": null,
      "outputs": []
    },
    {
      "cell_type": "code",
      "metadata": {
        "id": "FnsCZHCf8DpR"
      },
      "source": [
        "from wordcloud import WordCloud,STOPWORDS\n",
        "word = df_datatweet.Tweet[df_datatweet['Label']=='Non_HS'].astype('string')\n",
        "wordcloud = WordCloud(max_font_size=30, max_words=500, background_color=\"white\").generate_from_text(' '.join(word))\n",
        "print('Non Hate speech')\n",
        "plt.figure(figsize= (12,8))\n",
        "plt.imshow(wordcloud, interpolation = 'bilinear')\n",
        "plt.axis('off')\n",
        "plt.show()"
      ],
      "execution_count": null,
      "outputs": []
    },
    {
      "cell_type": "code",
      "metadata": {
        "id": "auA4PQAv8SwO"
      },
      "source": [
        "from wordcloud import WordCloud,STOPWORDS\n",
        "word = df_datatweet.Tweet[df_datatweet['Label']=='HS'].astype('string')\n",
        "wordcloud = WordCloud(max_font_size=30, max_words=500, background_color=\"white\").generate_from_text(' '.join(word))\n",
        "print('Hate speech')\n",
        "plt.figure(figsize= (12,8))\n",
        "plt.imshow(wordcloud, interpolation = 'bilinear')\n",
        "plt.axis('off')\n",
        "plt.show()"
      ],
      "execution_count": null,
      "outputs": []
    },
    {
      "cell_type": "markdown",
      "metadata": {
        "id": "ZOQonBKokBdP"
      },
      "source": [
        "# **Cleaning the tweets**"
      ]
    },
    {
      "cell_type": "code",
      "metadata": {
        "id": "NvdiaOcckuCn"
      },
      "source": [
        "# Cleaning the tweets\n",
        "from nltk.tokenize import word_tokenize\n",
        "import nltk\n",
        "nltk.download('stopwords')\n",
        "import re\n",
        "from Sastrawi.Stemmer.StemmerFactory import StemmerFactory\n",
        "def preprocessing(a,b):\n",
        "    data_tweetnew= []\n",
        "    from nltk.corpus import stopwords\n",
        "    for i in range(len(b)):\n",
        "        teks = re.sub('[^a-zA-Z]', ' ', a[i])\n",
        "        # Remove mentions\n",
        "        teks = re.sub(r'@[A-Za-z0-9_]+', '', a[i])\n",
        "        # Remove hashtags\n",
        "        teks = re.sub(r'#', '', a[i])\n",
        "        # Remove retweets:\n",
        "        teks = re.sub(r'RT : ', '', a[i])\n",
        "        # Remove urls\n",
        "        teks = re.sub(r'https?:\\/\\/[A-Za-z0-9\\.\\/]+', '', a[i])\n",
        "        #Case Folding\n",
        "        teks = teks.lower()\n",
        "        #Tokinize\n",
        "        teks = teks.split()\n",
        "        #Stopword + Stemming\n",
        "        stemmer = StemmerFactory().create_stemmer()        \n",
        "        teks = [stemmer.stem(word) for word in teks if not word in set(stopwords.words('indonesian'))]\n",
        "        teks = [word for word in teks if len (word) > 3]\n",
        "        teks = ' '.join(teks)\n",
        "        data_tweetnew.append(teks)\n",
        "    return data_tweetnew"
      ],
      "execution_count": null,
      "outputs": []
    },
    {
      "cell_type": "code",
      "metadata": {
        "id": "LRbYYBJJnMVU"
      },
      "source": [
        "length_of_set = df_datatweetnew['Label'].tolist()"
      ],
      "execution_count": null,
      "outputs": []
    },
    {
      "cell_type": "code",
      "metadata": {
        "id": "KkcGnEOAnPyy"
      },
      "source": [
        "data_set = preprocessing(df_datatweetnew['Tweet'],length_of_set)"
      ],
      "execution_count": null,
      "outputs": []
    },
    {
      "cell_type": "code",
      "metadata": {
        "id": "2GZEXiiWoB36"
      },
      "source": [
        "df_datatweetnew['Prepro'] = pd.Series(data_set).values\n",
        "df_datatweetnew"
      ],
      "execution_count": null,
      "outputs": []
    },
    {
      "cell_type": "markdown",
      "metadata": {
        "id": "F2c7sQu1pg4r"
      },
      "source": [
        "# **Model Analisis Sentimen**"
      ]
    },
    {
      "cell_type": "code",
      "metadata": {
        "id": "Zkl-uQxbq_vo"
      },
      "source": [
        "from sklearn.feature_extraction.text import TfidfVectorizer\n",
        "from sklearn.feature_extraction.text import CountVectorizer\n",
        "from sklearn import model_selection, preprocessing\n",
        "from sklearn.preprocessing import MinMaxScaler\n",
        "from sklearn.linear_model import LogisticRegression\n",
        "from sklearn.naive_bayes import MultinomialNB\n",
        "from sklearn.metrics import f1_score, roc_auc_score\n",
        "from sklearn.pipeline import make_pipeline\n",
        "import numpy as np\n",
        "from sklearn import metrics\n",
        "mnb = MultinomialNB()"
      ],
      "execution_count": null,
      "outputs": []
    },
    {
      "cell_type": "code",
      "metadata": {
        "id": "53l7xakQoaUm"
      },
      "source": [
        "train=df_datatweetnew['Prepro']\n",
        "train_data = TfidfVectorizer.fit_transform(train)\n",
        "train_data.shape"
      ],
      "execution_count": null,
      "outputs": []
    },
    {
      "cell_type": "code",
      "metadata": {
        "id": "bOsH6_EE05nf"
      },
      "source": [
        ""
      ],
      "execution_count": null,
      "outputs": []
    }
  ]
}